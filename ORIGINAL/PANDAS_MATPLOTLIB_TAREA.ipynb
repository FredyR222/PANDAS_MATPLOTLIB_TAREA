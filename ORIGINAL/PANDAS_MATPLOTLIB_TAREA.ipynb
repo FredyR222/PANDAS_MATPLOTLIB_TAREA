{
  "nbformat": 4,
  "nbformat_minor": 0,
  "metadata": {
    "colab": {
      "provenance": []
    },
    "kernelspec": {
      "name": "python3",
      "display_name": "Python 3"
    },
    "language_info": {
      "name": "python"
    }
  },
  "cells": [
    {
      "cell_type": "markdown",
      "source": [
        "# PROYECTO GUIADO. (10% Del Modulo 1 del Bootcamp)"
      ],
      "metadata": {
        "id": "gtK4Q0rzQ88K"
      }
    },
    {
      "cell_type": "markdown",
      "source": [
        "Nombre:\n",
        "\n",
        "1.   "
      ],
      "metadata": {
        "id": "t5kqxliLd2kB"
      }
    },
    {
      "cell_type": "markdown",
      "source": [
        "# Guía de Comandos para Análisis de Datos en Python\n",
        "\n",
        "## Importación de Bibliotecas\n",
        "| Comando | Uso | Ejemplo |\n",
        "|---------|-----|---------|\n",
        "| `import pandas as pd` | Importar pandas para análisis de datos | `import pandas as pd` |\n",
        "| `import numpy as np` | Importar numpy para cálculos numéricos | `import numpy as np` |\n",
        "| `import matplotlib.pyplot as plt` | Importar matplotlib para visualizaciones | `import matplotlib.pyplot as plt` |\n",
        "| `import seaborn as sns` | Importar seaborn para visualizaciones estadísticas | `import seaborn as sns` |\n",
        "\n",
        "## Pandas - Lectura y Exploración de Datos\n",
        "| Comando | Uso | Ejemplo |\n",
        "|---------|-----|---------|\n",
        "| `pd.read_csv()` | Leer archivo CSV | `df = pd.read_csv('archivo.csv')` |\n",
        "| `df.head()` | Ver primeras filas | `df.head()` |\n",
        "| `df.info()` | Ver información del DataFrame | `df.info()` |\n",
        "| `df.describe()` | Estadísticas descriptivas | `df.describe()` |\n",
        "| `df.shape` | Ver dimensiones del DataFrame | `df.shape` |\n",
        "| `df.columns` | Ver nombres de columnas | `df.columns` |\n",
        "| `df['columna']` | Seleccionar una columna | `df['RATING']` |\n",
        "\n",
        "## Pandas - Manipulación de Datos\n",
        "| Comando | Uso | Ejemplo |\n",
        "|---------|-----|---------|\n",
        "| `df.merge()` | Combinar DataFrames | `df1.merge(df2, on='columna')` |\n",
        "| `df.groupby()` | Agrupar datos | `df.groupby('año').mean()` |\n",
        "| `df.sort_values()` | Ordenar valores | `df.sort_values('columna', ascending=False)` |\n",
        "| `df.value_counts()` | Contar valores únicos | `df['columna'].value_counts()` |\n",
        "| `df.dropna()` | Eliminar valores nulos | `df.dropna()` |\n",
        "| `df.fillna()` | Rellenar valores nulos | `df.fillna(0)` |\n",
        "| `df.round()` | Redondear valores | `df['columna'].round(2)` |\n",
        "\n",
        "## Pandas - Manipulación Avanzada\n",
        "| Comando | Uso | Ejemplo |\n",
        "|---------|-----|---------|\n",
        "| `df.query()` | Filtrar datos con condiciones | `df.query('columna > 5')` |\n",
        "| `df.assign()` | Crear nuevas columnas | `df.assign(nueva=df['col']*2)` |\n",
        "| `df.nlargest()` | Obtener n filas más grandes | `df.nlargest(5, 'columna')` |\n",
        "| `df.nsmallest()` | Obtener n filas más pequeñas | `df.nsmallest(5, 'columna')` |\n",
        "| `df.abs()` | Valor absoluto | `df['columna'].abs()` |\n",
        "| `df.str.extract()` | Extraer patrones de texto | `df['texto'].str.extract('(\\d+)')` |\n",
        "\n",
        "## Pandas - Filtrado y Selección\n",
        "| Comando | Uso | Ejemplo |\n",
        "|---------|-----|---------|\n",
        "| `df.loc[]` | Selección por etiquetas | `df.loc[0:5, 'columna']` |\n",
        "| `df.iloc[]` | Selección por posición | `df.iloc[0:5, 0]` |\n",
        "| `df.isin()` | Filtrar por valores específicos | `df[df['columna'].isin(['A', 'B'])]` |\n",
        "| `df.between()` | Filtrar por rango | `df[df['columna'].between(1, 10)]` |\n",
        "| `df.duplicated()` | Identificar duplicados | `df.duplicated()` |\n",
        "| `df.drop_duplicates()` | Eliminar duplicados | `df.drop_duplicates()` |\n",
        "\n",
        "## Pandas - Transformación de Datos\n",
        "| Comando | Uso | Ejemplo |\n",
        "|---------|-----|---------|\n",
        "| `df.apply()` | Aplicar función a datos | `df['col'].apply(lambda x: x*2)` |\n",
        "| `df.map()` | Mapear valores | `df['col'].map({'A': 1, 'B': 2})` |\n",
        "| `df.replace()` | Reemplazar valores | `df.replace({'old': 'new'})` |\n",
        "| `df.astype()` | Cambiar tipo de datos | `df['col'].astype('int')` |\n",
        "| `pd.cut()` | Categorizar datos numéricos | `pd.cut(df['col'], bins=5)` |\n",
        "| `pd.qcut()` | Categorizar por cuantiles | `pd.qcut(df['col'], q=4)` |\n",
        "\n",
        "## Matplotlib - Visualización Básica\n",
        "| Comando | Uso | Ejemplo |\n",
        "|---------|-----|---------|\n",
        "| `plt.figure()` | Crear nueva figura | `plt.figure(figsize=(10,6))` |\n",
        "| `plt.plot()` | Crear gráfico de líneas | `plt.plot(x, y)` |\n",
        "| `plt.scatter()` | Crear gráfico de dispersión | `plt.scatter(x, y)` |\n",
        "| `plt.hist()` | Crear histograma | `plt.hist(datos)` |\n",
        "| `plt.title()` | Agregar título | `plt.title('Mi Gráfico')` |\n",
        "| `plt.xlabel()` | Etiquetar eje X | `plt.xlabel('Eje X')` |\n",
        "| `plt.ylabel()` | Etiquetar eje Y | `plt.ylabel('Eje Y')` |\n",
        "\n",
        "## Matplotlib - Personalización Avanzada\n",
        "| Comando | Uso | Ejemplo |\n",
        "|---------|-----|---------|\n",
        "| `plt.subplots()` | Crear múltiples subgráficos | `fig, axes = plt.subplots(2,2)` |\n",
        "| `plt.tight_layout()` | Ajustar espaciado | `plt.tight_layout()` |\n",
        "| `plt.colorbar()` | Agregar barra de color | `plt.colorbar()` |\n",
        "| `plt.axhline()` | Línea horizontal | `plt.axhline(y=0, color='r')` |\n",
        "| `plt.axvline()` | Línea vertical | `plt.axvline(x=0, color='b')` |\n",
        "| `plt.text()` | Agregar texto | `plt.text(x, y, 'texto')` |\n",
        "\n",
        "## Matplotlib - Configuración Avanzada\n",
        "| Comando | Uso | Ejemplo |\n",
        "|---------|-----|---------|\n",
        "| `plt.rcParams[]` | Configurar parámetros globales | `plt.rcParams['figure.figsize'] = [10, 6]` |\n",
        "| `plt.xticks()` | Personalizar etiquetas eje X | `plt.xticks(rotation=45)` |\n",
        "| `plt.yticks()` | Personalizar etiquetas eje Y | `plt.yticks(rotation=0)` |\n",
        "| `plt.margins()` | Ajustar márgenes | `plt.margins(x=0.1, y=0.1)` |\n",
        "| `plt.annotate()` | Agregar anotaciones | `plt.annotate('texto', xy=(x, y))` |\n",
        "\n",
        "## Seaborn - Visualización Estadística\n",
        "| Comando | Uso | Ejemplo |\n",
        "|---------|-----|---------|\n",
        "| `sns.scatterplot()` | Gráfico de dispersión | `sns.scatterplot(data=df, x='x', y='y')` |\n",
        "| `sns.kdeplot()` | Gráfico de densidad | `sns.kdeplot(data=df['columna'])` |\n",
        "| `sns.boxplot()` | Diagrama de caja | `sns.boxplot(data=df, x='grupo', y='valor')` |\n",
        "| `sns.heatmap()` | Mapa de calor | `sns.heatmap(matriz_correlacion)` |\n",
        "| `sns.countplot()` | Gráfico de conteo | `sns.countplot(data=df, x='categoria')` |\n",
        "| `sns.histplot()` | Histograma | `sns.histplot(data=df['columna'])` |\n",
        "| `sns.clustermap()` | Mapa de clústeres | `sns.clustermap(data=matriz)` |\n",
        "\n",
        "## Seaborn - Visualización Avanzada\n",
        "| Comando | Uso | Ejemplo |\n",
        "|---------|-----|---------|\n",
        "| `sns.set_style()` | Establecer estilo de gráficos | `sns.set_style('whitegrid')` |\n",
        "| `sns.distplot()` | Gráfico de distribución | `sns.distplot(df['columna'])` |\n",
        "| `sns.jointplot()` | Gráfico conjunto | `sns.jointplot(data=df, x='x', y='y')` |\n",
        "| `sns.pairplot()` | Matriz de gráficos de dispersión | `sns.pairplot(df)` |\n",
        "| `sns.violinplot()` | Gráfico de violín | `sns.violinplot(data=df, x='grupo', y='valor')` |\n",
        "| `sns.lmplot()` | Gráfico de regresión | `sns.lmplot(data=df, x='x', y='y')` |\n",
        "\n",
        "## Seaborn - Configuración\n",
        "| Comando | Uso | Ejemplo |\n",
        "|---------|-----|---------|\n",
        "| `sns.set_palette()` | Cambiar paleta de colores | `sns.set_palette('husl')` |\n",
        "| `sns.set_context()` | Ajustar escala de elementos | `sns.set_context('talk')` |\n",
        "| `sns.despine()` | Remover ejes del gráfico | `sns.despine()` |\n",
        "| `sns.set_theme()` | Establecer tema completo | `sns.set_theme(style='darkgrid')` |\n",
        "| `sns.color_palette()` | Crear paleta personalizada | `sns.color_palette('husl', 8)` |\n",
        "\n",
        "## Análisis Estadístico\n",
        "| Comando | Uso | Ejemplo |\n",
        "|---------|-----|---------|\n",
        "| `df.corr()` | Matriz de correlación | `df.corr()` |\n",
        "| `df.mean()` | Calcular media | `df['columna'].mean()` |\n",
        "| `df.median()` | Calcular mediana | `df['columna'].median()` |\n",
        "| `df.std()` | Calcular desviación estándar | `df['columna'].std()` |\n",
        "| `df.max()` | Encontrar valor máximo | `df['columna'].max()` |\n",
        "| `df.min()` | Encontrar valor mínimo | `df['columna'].min()` |\n",
        "\n",
        "## Personalización de Gráficos\n",
        "| Comando | Uso | Ejemplo |\n",
        "|---------|-----|---------|\n",
        "| `plt.style.use()` | Cambiar estilo de gráficos | `plt.style.use('seaborn')` |\n",
        "| `plt.grid()` | Agregar cuadrícula | `plt.grid(True)` |\n",
        "| `plt.legend()` | Agregar leyenda | `plt.legend()` |\n",
        "| `plt.savefig()` | Guardar gráfico | `plt.savefig('grafico.png')` |\n",
        "| `plt.close()` | Cerrar figura actual | `plt.close()` |\n"
      ],
      "metadata": {
        "id": "Yub7ROVwvp9J"
      }
    },
    {
      "cell_type": "markdown",
      "source": [
        "## Descripción General\n",
        "\n",
        "Si estás planeando ir a ver una película, ¿qué tan confiables son las reseñas y calificaciones en línea? *Especialmente* si la misma compañía que muestra la calificación *también* gana dinero vendiendo entradas de cine. ¿Tienen un sesgo hacia calificar las películas más alto de lo que debería"
      ],
      "metadata": {
        "id": "5llsDp3cRCSV"
      }
    },
    {
      "cell_type": "markdown",
      "source": [
        "### Objetivo:\n",
        "\n",
        "**Tu objetivo es completar las tareas siguientes basándote en el artículo de 538 y ver si llegas a una conclusión similar. Necesitarás usar tus habilidades de pandas y visualización para determinar si las calificaciones de Fandango en 2015 tenían un sesgo hacia calificar mejor las películas para vender más entradas.**"
      ],
      "metadata": {
        "id": "oqnZBhQ_RKfG"
      }
    },
    {
      "cell_type": "markdown",
      "source": [
        "**Completa las tareas escritas en negrita.**"
      ],
      "metadata": {
        "id": "sfUrQvMDRLjV"
      }
    },
    {
      "cell_type": "markdown",
      "source": [
        "## Parte Uno: Entendiendo el Contexto y los Datos"
      ],
      "metadata": {
        "id": "rgb5yVZ-RQme"
      }
    },
    {
      "cell_type": "markdown",
      "source": [
        "**TAREA: Lee este artículo: [Sé Escéptico Con las Calificaciones de Películas en Línea, Especialmente las de Fandango](http://fivethirtyeight.com/features/fandango-movies-ratings/)**"
      ],
      "metadata": {
        "id": "0OPjPjv8RWjv"
      }
    },
    {
      "cell_type": "markdown",
      "source": [
        "**TAREA: Después de leer el artículo, lee estas dos tablas que dan una descripción general de los dos archivos .csv con los que trabajaremos:**\n",
        "\n",
        "### Los Datos\n",
        "\n",
        "Estos son los datos detrás del artículo [Sé Escéptico Con las Calificaciones de Películas en Línea, Especialmente las de Fandango](http://fivethirtyeight.com/features/fandango-movies-ratings/) disponible abiertamente en el github de 538: https://github.com/fivethirtyeight/data. Hay dos archivos csv, uno con las Estrellas y Calificaciones Mostradas de Fandango, y el otro con datos agregados de calificaciones de películas de otros sitios, como Metacritic, IMDB y Rotten Tomatoes.\n",
        "\n",
        "#### all_sites_scores.csv\n",
        "\n",
        "El archivo `all_sites_scores.csv` contiene todas las películas que tienen una calificación de Rotten Tomatoes, una calificación de usuarios de RT, una puntuación de Metacritic, una puntuación de usuarios de Metacritic, una puntuación de IMDb, y al menos 30 reseñas de fans en Fandango. Los datos de Fandango fueron extraídos el 24 de agosto de 2015.\n",
        "\n",
        "Columna | Definición\n",
        "--- | -----------\n",
        "FILM | La película en cuestión\n",
        "RottenTomatoes | La puntuación del Tomatometer de Rotten Tomatoes para la película\n",
        "RottenTomatoes_User | La puntuación de usuarios de Rotten Tomatoes para la película\n",
        "Metacritic | La puntuación de críticos de Metacritic para la película\n",
        "Metacritic_User | La puntuación de usuarios de Metacritic para la película\n",
        "IMDB | La puntuación de usuarios de IMDb para la película\n",
        "Metacritic_user_vote_count | El número de votos de usuarios que tenía la película en Metacritic\n",
        "IMDB_user_vote_count | El número de votos de usuarios que tenía la película en IMDb\n",
        "\n",
        "#### fandango_scrape.csv\n",
        "\n",
        "El archivo `fandango_scrape.csv` contiene todas las películas que 538 extrajo de Fandango.\n",
        "\n",
        "Columna | Definición\n",
        "--- | ---------\n",
        "FILM | La película\n",
        "STARS | Número de estrellas mostradas en Fandango.com\n",
        "RATING | El valor de calificación de Fandango para la película, extraído del HTML de cada página. Esta es la puntuación promedio real que obtuvo la película.\n",
        "VOTES | Número de personas que habían reseñado la película en el momento de la extracción.\n",
        "\n",
        "---"
      ],
      "metadata": {
        "id": "-1l-BNTmRl4N"
      }
    },
    {
      "cell_type": "markdown",
      "source": [
        "**TAREA (2%): Importa las bibliotecas que creas que usarás:**"
      ],
      "metadata": {
        "id": "WRcrbSEccQka"
      }
    },
    {
      "cell_type": "code",
      "execution_count": null,
      "metadata": {
        "id": "inIzNoSuQy3J"
      },
      "outputs": [],
      "source": [
        "# CODIGO AQUI"
      ]
    },
    {
      "cell_type": "markdown",
      "source": [
        "## Parte Dos: Explorando las Puntuaciones Mostradas por Fandango versus las Calificaciones Reales de Usuarios\n",
        "\n",
        "Primero exploremos las calificaciones de Fandango para ver si nuestro análisis coincide con la conclusión del artículo."
      ],
      "metadata": {
        "id": "bCAUaRZTcYoz"
      }
    },
    {
      "cell_type": "markdown",
      "source": [
        "**TAREA (3%): Lee el archivo fandango_scrape.csv**"
      ],
      "metadata": {
        "id": "K9AnCHj5cjr0"
      }
    },
    {
      "cell_type": "code",
      "source": [],
      "metadata": {
        "id": "W-OUm7A3coHg"
      },
      "execution_count": null,
      "outputs": []
    },
    {
      "cell_type": "markdown",
      "source": [
        "**TAREA(3%): Explora las Propiedades del DataFrame y su Encabezado.**"
      ],
      "metadata": {
        "id": "oHoqgW-wcozv"
      }
    },
    {
      "cell_type": "code",
      "source": [
        "# info"
      ],
      "metadata": {
        "id": "C1hD_4Cpct9m"
      },
      "execution_count": null,
      "outputs": []
    },
    {
      "cell_type": "code",
      "source": [
        "# descripcion"
      ],
      "metadata": {
        "id": "PDsa6pB9c7I4"
      },
      "execution_count": null,
      "outputs": []
    },
    {
      "cell_type": "code",
      "source": [
        "# primeras filas"
      ],
      "metadata": {
        "id": "JhAsjSC6c7d_"
      },
      "execution_count": null,
      "outputs": []
    },
    {
      "cell_type": "markdown",
      "source": [
        "**TAREA(3%): Crea un diagrama de dispersión que compare las columnas RATING y VOTES. ¿Notas alguna tendencia interesante?**\n",
        "\n",
        "Nota: Un diagrama de dispersión es conocido como diagrama de puntos, recuerda las técnicas utilizadas con seaborn o matplotlib.\n",
        "\n",
        "El gráfico debe tener nombres en las escalas de x y y y un título."
      ],
      "metadata": {
        "id": "VrhtueUFc765"
      }
    },
    {
      "cell_type": "code",
      "source": [],
      "metadata": {
        "id": "P9eO9c4zdT8S"
      },
      "execution_count": null,
      "outputs": []
    },
    {
      "cell_type": "markdown",
      "source": [
        "**TAREA(3%): Crea un histograma de la columna RATING. ¿Qué notas?**"
      ],
      "metadata": {
        "id": "JK9zMJdNdx6q"
      }
    },
    {
      "cell_type": "code",
      "source": [],
      "metadata": {
        "id": "D1Q8sHJRdzbR"
      },
      "execution_count": null,
      "outputs": []
    },
    {
      "cell_type": "markdown",
      "source": [
        "**TAREA(3%): Calcula la correlación entre las columnas numéricas:**"
      ],
      "metadata": {
        "id": "-uO_jrsmdz_O"
      }
    },
    {
      "cell_type": "code",
      "source": [],
      "metadata": {
        "id": "uHBSdJFDgGPP"
      },
      "execution_count": null,
      "outputs": []
    },
    {
      "cell_type": "markdown",
      "source": [
        "**TAREA(3%): Asumiendo que cada fila en la columna del título de la PELÍCULA tiene el mismo formato:**\n",
        "\n",
        "    Film Title Name (Year)\n",
        "    \n",
        "**Crea una nueva columna que pueda extraer el año de las cadenas de título y establece esta nueva columna como YEAR**"
      ],
      "metadata": {
        "id": "hnFX-dmfgGpX"
      }
    },
    {
      "cell_type": "code",
      "source": [],
      "metadata": {
        "id": "GsDf07a3gXEj"
      },
      "execution_count": null,
      "outputs": []
    },
    {
      "cell_type": "markdown",
      "source": [
        "**TAREA(3%): ¿Cuántas películas hay en el DataFrame de Fandango por año?**"
      ],
      "metadata": {
        "id": "owAdXreMgzoS"
      }
    },
    {
      "cell_type": "code",
      "source": [],
      "metadata": {
        "id": "yeLQ_Gxug396"
      },
      "execution_count": null,
      "outputs": []
    },
    {
      "cell_type": "markdown",
      "source": [
        "**TAREA(3%): Visualiza el conteo de películas por año con un gráfico:**"
      ],
      "metadata": {
        "id": "1HeOZMnug_Nd"
      }
    },
    {
      "cell_type": "code",
      "source": [],
      "metadata": {
        "id": "uZsqkoOIhBV9"
      },
      "execution_count": null,
      "outputs": []
    },
    {
      "cell_type": "markdown",
      "source": [
        "**TAREA(3%): ¿Cuáles son las 10 películas con el mayor número de votos?**\n"
      ],
      "metadata": {
        "id": "hFsJcDzGhCNo"
      }
    },
    {
      "cell_type": "code",
      "source": [],
      "metadata": {
        "id": "wCZUGuVvhMwr"
      },
      "execution_count": null,
      "outputs": []
    },
    {
      "cell_type": "markdown",
      "source": [
        "**TAREA(3%): ¿Cuántas películas tienen cero votos?**"
      ],
      "metadata": {
        "id": "QWc4mVhNhO6Y"
      }
    },
    {
      "cell_type": "code",
      "source": [],
      "metadata": {
        "id": "Xmr1MKwVhW7l"
      },
      "execution_count": null,
      "outputs": []
    },
    {
      "cell_type": "markdown",
      "source": [
        "**TAREA(3%): Crea un DataFrame que solo contenga películas reseñadas eliminando cualquier película que tenga cero votos.**"
      ],
      "metadata": {
        "id": "BqmnslIfhXS3"
      }
    },
    {
      "cell_type": "code",
      "source": [],
      "metadata": {
        "id": "eFzrBfsDhmO3"
      },
      "execution_count": null,
      "outputs": []
    },
    {
      "cell_type": "markdown",
      "source": [
        "**Como se menciona en el artículo, debido a la visualización del HTML y el sistema de calificación por estrellas, la calificación real del usuario puede ser ligeramente diferente de la calificación mostrada al usuario. Vamos a visualizar esta diferencia en las distribuciones.**\n",
        "\n",
        "\n",
        "**TAREA(4%): Crea un gráfico KDE (o múltiples kdeplots) que muestre la distribución de las calificaciones que se muestran (STARS) versus cuál fue la calificación real de los votos (RATING). Limita los KDEs al rango 0-5.**\n",
        "\n",
        "Nota: Es probable que necesites consultar la documentación de como crear un KDE plot en: [KDE Plot](https://seaborn.pydata.org/generated/seaborn.kdeplot.html)\n",
        "\n",
        "Nota: El gráfico debe llevar labels y título.\n",
        "\n",
        "Nota: Explica en un comentario que entiendes por un KDE Plot."
      ],
      "metadata": {
        "id": "xhZJl1Wfh8JO"
      }
    },
    {
      "cell_type": "code",
      "source": [],
      "metadata": {
        "id": "31zriVifinOR"
      },
      "execution_count": null,
      "outputs": []
    },
    {
      "cell_type": "code",
      "source": [],
      "metadata": {
        "id": "6xZM30soiPYF"
      },
      "execution_count": null,
      "outputs": []
    },
    {
      "cell_type": "markdown",
      "source": [
        "**TAREA(3%): Ahora vamos a cuantificar realmente esta discrepancia. Crea una nueva columna de la diferencia entre las STARS mostradas versus el RATING verdadero. Calcula esta diferencia con STARS-RATING y redondea estas diferencias al punto decimal más cercano.**"
      ],
      "metadata": {
        "id": "Q-KYjL2uioQJ"
      }
    },
    {
      "cell_type": "code",
      "source": [],
      "metadata": {
        "id": "lflUbrdkiy2x"
      },
      "execution_count": null,
      "outputs": []
    },
    {
      "cell_type": "markdown",
      "source": [
        "**TAREA(3%): Crea un gráfico de conteo *countplot* para mostrar el número de veces que ocurre cierta diferencia:**\n",
        "\n"
      ],
      "metadata": {
        "id": "S96KzEBLi-Mm"
      }
    },
    {
      "cell_type": "code",
      "source": [],
      "metadata": {
        "id": "uBHRyqG5jGDg"
      },
      "execution_count": null,
      "outputs": []
    },
    {
      "cell_type": "markdown",
      "source": [
        "**TAREA(2%): ¡Podemos ver en el gráfico que una película mostraba más de 1 estrella de diferencia con respecto a su calificación real! ¿Qué película tuvo esta diferencia cercana a 1 estrella?**"
      ],
      "metadata": {
        "id": "nkmw3fNLjP9_"
      }
    },
    {
      "cell_type": "code",
      "source": [],
      "metadata": {
        "id": "K4FSRPrzjUci"
      },
      "execution_count": null,
      "outputs": []
    },
    {
      "cell_type": "markdown",
      "source": [
        "##Parte Tres: Comparación de las Calificaciones de Fandango con Otros Sitios\n",
        "Ahora vamos a comparar las puntuaciones de Fandango con otros sitios de películas y ver cómo se comparan.\n",
        "\n",
        "**TAREA: Lee el archivo \"all_sites_scores.csv\" ejecutando la celda de abajo**"
      ],
      "metadata": {
        "id": "jf2wrY9kjt3g"
      }
    },
    {
      "cell_type": "code",
      "source": [
        "all_sites = pd.read_csv(\"all_sites_scores.csv\")"
      ],
      "metadata": {
        "id": "Y0FGVQC4jxIN"
      },
      "execution_count": null,
      "outputs": []
    },
    {
      "cell_type": "markdown",
      "source": [
        "**TAREA: Explora las columnas del DataFrame, su información y descripción. Corre las siguientes celdas.**\n",
        "\n"
      ],
      "metadata": {
        "id": "nLHJgGO2j0o2"
      }
    },
    {
      "cell_type": "code",
      "source": [
        "all_sites.head()"
      ],
      "metadata": {
        "id": "KrI6U85Ij9Gf"
      },
      "execution_count": null,
      "outputs": []
    },
    {
      "cell_type": "code",
      "source": [
        "all_sites.info()"
      ],
      "metadata": {
        "id": "K3BfAjeGkB0p"
      },
      "execution_count": null,
      "outputs": []
    },
    {
      "cell_type": "code",
      "source": [
        "all_sites.describe()"
      ],
      "metadata": {
        "id": "Kvf0zufKkEtw"
      },
      "execution_count": null,
      "outputs": []
    },
    {
      "cell_type": "markdown",
      "source": [
        "###Rotten Tomatoes\n",
        "Primero echemos un vistazo a Rotten Tomatoes. RT tiene dos conjuntos de reseñas, las reseñas de sus críticos (calificaciones publicadas por críticos oficiales) y las reseñas de usuarios.\n",
        "\n",
        "**TAREA(3%): Crea un gráfico de dispersión que explore la relación entre las reseñas de los Críticos de RT y las reseñas de los Usuarios de RT.**\n",
        "\n",
        "Nota: Los diagramas de dispersión o scatterplots"
      ],
      "metadata": {
        "id": "7YsK7fdPkHNY"
      }
    },
    {
      "cell_type": "code",
      "source": [],
      "metadata": {
        "id": "lW5AcKgrkk4n"
      },
      "execution_count": null,
      "outputs": []
    },
    {
      "cell_type": "markdown",
      "source": [
        "Vamos a cuantificar esta diferencia comparando las calificaciones de los críticos y las calificaciones de los usuarios de RT. Lo calcularemos con RottenTomatoes-RottenTomatoes_User. Nota: Rotten_Diff aquí es Críticos - Puntuación de Usuarios. Entonces, los valores más cercanos a 0 significan acuerdo entre Críticos y Usuarios. Valores positivos más grandes significan que los críticos calificaron mucho más alto que los usuarios. Valores negativos más grandes significan que los usuarios calificaron mucho más alto que los críticos.\n",
        "\n",
        "**TAREA(3%): Crea una nueva columna basada en la diferencia entre las calificaciones de los críticos y las calificaciones de los usuarios para Rotten Tomatoes. Calcula esto con RottenTomatoes-RottenTomatoes_User**"
      ],
      "metadata": {
        "id": "ZWu6yqAHkf2f"
      }
    },
    {
      "cell_type": "code",
      "source": [],
      "metadata": {
        "id": "mPGGBXtxkQ2K"
      },
      "execution_count": null,
      "outputs": []
    },
    {
      "cell_type": "markdown",
      "source": [
        "Ahora vamos a comparar la diferencia media general. Como estamos tratando con diferencias que podrían ser negativas o positivas, primero tomemos el valor absoluto de todas las diferencias, y luego calculemos la media. Esto nos informará sobre la diferencia absoluta promedio entre la calificación de los críticos versus la calificación de los usuarios."
      ],
      "metadata": {
        "id": "Ohn_33SJkx3V"
      }
    },
    {
      "cell_type": "markdown",
      "source": [
        "**TAREA(2%): Calcula la Diferencia Absoluta Media entre las puntuaciones de RT y las puntuaciones de Usuarios de RT como se describió anteriormente.**"
      ],
      "metadata": {
        "id": "1Qn6HpqKkz5z"
      }
    },
    {
      "cell_type": "code",
      "source": [],
      "metadata": {
        "id": "U5cpFN5Ykyx6"
      },
      "execution_count": null,
      "outputs": []
    },
    {
      "cell_type": "markdown",
      "source": [
        "**TAREA(3%): Grafica la distribución de las diferencias entre la Puntuación de los Críticos de RT y la Puntuación de los Usuarios de RT. Debería haber valores negativos en este gráfico de distribución. Puedes usar KDE o Histogramas para mostrar esta distribución.**"
      ],
      "metadata": {
        "id": "AyQxYxDckzc6"
      }
    },
    {
      "cell_type": "code",
      "source": [],
      "metadata": {
        "id": "SBc4VgPTlDwW"
      },
      "execution_count": null,
      "outputs": []
    },
    {
      "cell_type": "markdown",
      "source": [
        "**TAREA(2%): Ahora crea una distribución que muestre la diferencia en *valor absoluto* entre Críticos y Usuarios en Rotten Tomatoes.**"
      ],
      "metadata": {
        "id": "8AawIi-yoYfQ"
      }
    },
    {
      "cell_type": "code",
      "source": [],
      "metadata": {
        "id": "-ISWzcbEodD_"
      },
      "execution_count": null,
      "outputs": []
    },
    {
      "cell_type": "markdown",
      "source": [
        "Descubramos qué películas están causando las mayores diferencias. Primero, muestra las 5 películas con la mayor diferencia negativa entre Usuarios y críticos de RT. Como calculamos la diferencia como Calificación de Críticos - Calificación de Usuarios, entonces los valores negativos grandes implican que los usuarios calificaron la película mucho más alto en promedio que los críticos."
      ],
      "metadata": {
        "id": "4yCPoJ1HopOI"
      }
    },
    {
      "cell_type": "markdown",
      "source": [
        "**TAREA(4%): ¿Cuáles son las 5 películas que los usuarios calificaron más alto que los críticos en promedio:**"
      ],
      "metadata": {
        "id": "FYDtB7IXosD5"
      }
    },
    {
      "cell_type": "code",
      "source": [],
      "metadata": {
        "id": "whH7U813opv2"
      },
      "execution_count": null,
      "outputs": []
    },
    {
      "cell_type": "markdown",
      "source": [
        "**TAREA(2%): Ahora muestra las 5 películas que los críticos calificaron más alto que los usuarios en promedio.**"
      ],
      "metadata": {
        "id": "GIfH2zSHqEAB"
      }
    },
    {
      "cell_type": "code",
      "source": [],
      "metadata": {
        "id": "TAinMR7gqGgS"
      },
      "execution_count": null,
      "outputs": []
    },
    {
      "cell_type": "markdown",
      "source": [
        "##MetaCritic\n",
        "Ahora echemos un vistazo rápido a las calificaciones de MetaCritic. Metacritic también muestra un promedio de calificación de usuarios versus su calificación oficial mostrada."
      ],
      "metadata": {
        "id": "WxGPEJdAqM8_"
      }
    },
    {
      "cell_type": "markdown",
      "source": [
        "**TAREA(3%): Muestra un gráfico de dispersión de la Calificación de Metacritic versus la calificación de Usuarios de Metacritic.**"
      ],
      "metadata": {
        "id": "cgswhDWnqabN"
      }
    },
    {
      "cell_type": "code",
      "source": [],
      "metadata": {
        "id": "ZoFqVorPqVXf"
      },
      "execution_count": null,
      "outputs": []
    },
    {
      "cell_type": "markdown",
      "source": [
        "##IMDB\n",
        "Finalmente, exploremos IMDB. Observa que tanto Metacritic como IMDB reportan conteos de votos. Analicemos las películas más populares.\n",
        "\n",
        "**TAREA(3%): Crea un gráfico de dispersión para la relación entre los conteos de votos en Metacritic versus los conteos de votos en IMDB.**"
      ],
      "metadata": {
        "id": "YkeFGGOXqrj2"
      }
    },
    {
      "cell_type": "code",
      "source": [],
      "metadata": {
        "id": "MPMnQWdmqxXe"
      },
      "execution_count": null,
      "outputs": []
    },
    {
      "cell_type": "markdown",
      "source": [
        "**TAREA(2%)Observa que hay dos valores atípicos aquí. La película con el mayor conteo de votos en IMDB solo tiene alrededor de 500 calificaciones en Metacritic. ¿Cuál es esta película?**\n",
        "\n",
        "**TAREA(3%): ¿Qué película tiene el mayor número de votos de usuarios en IMDB?**"
      ],
      "metadata": {
        "id": "g80kppWAru90"
      }
    },
    {
      "cell_type": "code",
      "source": [],
      "metadata": {
        "id": "2B16t_fSr0N3"
      },
      "execution_count": null,
      "outputs": []
    },
    {
      "cell_type": "markdown",
      "source": [
        "**TAREA(3%): ¿Qué película tiene el mayor número de votos de usuarios en Metacritic?**"
      ],
      "metadata": {
        "id": "WeV87DGUr_fq"
      }
    },
    {
      "cell_type": "code",
      "source": [],
      "metadata": {
        "id": "wLt8ZrRlsCQx"
      },
      "execution_count": null,
      "outputs": []
    },
    {
      "cell_type": "markdown",
      "source": [
        "##Calificaciones de Fandango vs. Todos los Sitios\n",
        "Finalmente, comencemos a explorar si Fandango muestra artificialmente calificaciones más altas de lo justificado para impulsar la venta de entradas."
      ],
      "metadata": {
        "id": "UHJ1hZagsC90"
      }
    },
    {
      "cell_type": "code",
      "source": [],
      "metadata": {
        "id": "uj01K_BysOaI"
      },
      "execution_count": null,
      "outputs": []
    },
    {
      "cell_type": "markdown",
      "source": [
        "**TAREA(2%): Combina la tabla de Fandango con la tabla de Todos los Sitios. No todas las películas en la tabla de Fandango están en la tabla de Todos los Sitios, ya que algunas películas de Fandango tienen muy pocas o ninguna reseña. Solo queremos comparar películas que estén en ambos DataFrames, así que haz una fusión interna para combinar ambos DataFrames basándote en las columnas FILM.**"
      ],
      "metadata": {
        "id": "GfVNFcMnsXJt"
      }
    },
    {
      "cell_type": "code",
      "source": [],
      "metadata": {
        "id": "AvPJjv7usZ06"
      },
      "execution_count": null,
      "outputs": []
    },
    {
      "cell_type": "markdown",
      "source": [
        "###Normalizar columnas a STARS y RATINGS de Fandango 0-5\n",
        "Observa que RT, Metacritic e IMDB no usan una puntuación entre 0-5 estrellas como lo hace Fandango. Para hacer una comparación justa, necesitamos normalizar estos valores para que todos estén entre 0-5 estrellas y la relación entre las reseñas se mantenga igual.\n",
        "\n",
        "**TAREA(2%): Crea nuevas columnas normalizadas para todas las calificaciones para que coincidan con el rango de 0-5 estrellas mostrado en Fandango. Hay muchas formas de hacer esto.**\n",
        "\n",
        "Enlace de ayuda: https://stackoverflow.com/questions/26414913/normalize-columns-of-pandas-data-frame\n",
        "\n",
        "Pista más fácil:\n",
        "\n",
        "Ten en cuenta, una forma simple de convertir calificaciones:\n",
        "\n",
        "100/20 = 5\n",
        "10/2 = 5"
      ],
      "metadata": {
        "id": "Z63uwBJ8sjgX"
      }
    },
    {
      "cell_type": "code",
      "source": [],
      "metadata": {
        "id": "3YgjyQ10spK-"
      },
      "execution_count": null,
      "outputs": []
    },
    {
      "cell_type": "markdown",
      "source": [
        "**TAREA(2%): Ahora crea un DataFrame norm_scores que solo contenga las calificaciones normalizadas. Incluye tanto STARS como RATING de la tabla original de Fandango.**"
      ],
      "metadata": {
        "id": "9WmO_0Kjs0V8"
      }
    },
    {
      "cell_type": "code",
      "source": [],
      "metadata": {
        "id": "gWTNyzzks3Tx"
      },
      "execution_count": null,
      "outputs": []
    },
    {
      "cell_type": "markdown",
      "source": [
        "###Comparando la Distribución de Puntuaciones Entre Sitios\n",
        "¡Ahora el momento de la verdad! ¿Muestra Fandango calificaciones anormalmente altas? Ya sabemos que empuja el RATING mostrado más alto que las STARS, pero ¿son las calificaciones en sí más altas que el promedio?\n",
        "\n",
        "**TAREA(2%): Crea un gráfico que compare las distribuciones de calificaciones normalizadas entre todos los sitios. Hay muchas formas de hacer esto, pero explora la documentación de KDEplot de Seaborn para encontrar algunas formas simples de mostrarlo rápidamente. No te preocupes si el formato de tu gráfico no se ve exactamente igual al nuestro, siempre y cuando las diferencias en la distribución sean claras.**\n",
        "\n",
        "Nota rápida si tienes problemas moviendo la leyenda para un kdeplot de seaborn: https://github.com/mwaskom/seaborn/issues/2280"
      ],
      "metadata": {
        "id": "_yZSBMnAtEA0"
      }
    },
    {
      "cell_type": "code",
      "source": [
        "def move_legend(ax, new_loc, **kws):\n",
        "    old_legend = ax.legend_\n",
        "    handles = old_legend.legendHandles\n",
        "    labels = [t.get_text() for t in old_legend.get_texts()]\n",
        "    title = old_legend.get_title().get_text()\n",
        "    ax.legend(handles, labels, loc=new_loc, title=title, **kws)"
      ],
      "metadata": {
        "id": "vtcS4bmztH4Z"
      },
      "execution_count": null,
      "outputs": []
    },
    {
      "cell_type": "code",
      "source": [],
      "metadata": {
        "id": "5WPYWWO0tMMF"
      },
      "execution_count": null,
      "outputs": []
    },
    {
      "cell_type": "markdown",
      "source": [
        "Claramente Fandango tiene una distribución desigual. También podemos ver que los críticos de RT tienen la distribución más uniforme. Vamos a comparar estos dos directamente.\n",
        "\n",
        "**TAREA(2%): Crea un gráfico KDE que compare la distribución de las calificaciones de los críticos de RT contra las STARS mostradas por Fandango.**"
      ],
      "metadata": {
        "id": "6Fzv7toMthlS"
      }
    },
    {
      "cell_type": "code",
      "source": [],
      "metadata": {
        "id": "bb_SMUYZtkSn"
      },
      "execution_count": null,
      "outputs": []
    },
    {
      "cell_type": "markdown",
      "source": [
        "**TAREA OPCIONAL(+5%): Crea un histograma que compare todas las puntuaciones normalizadas.**\n",
        "\n"
      ],
      "metadata": {
        "id": "e4543g9yttKt"
      }
    },
    {
      "cell_type": "code",
      "source": [],
      "metadata": {
        "id": "TlUFceKktwb2"
      },
      "execution_count": null,
      "outputs": []
    },
    {
      "cell_type": "markdown",
      "source": [
        "###¿Cómo se califican las peores películas en todas las plataformas?\n",
        "**TAREA(2%): Crea una visualización de mapa de clústeres de todas las puntuaciones normalizadas. Observa las diferencias en las calificaciones, las películas muy bien calificadas deberían estar agrupadas juntas versus las películas mal calificadas. Nota: Este mapa de clústeres no necesita tener los títulos de las PELÍCULAS como índice, puedes omitirlo para el mapa de clústeres.**\n",
        "\n"
      ],
      "metadata": {
        "id": "TK2F2gkmtxJo"
      }
    },
    {
      "cell_type": "code",
      "source": [],
      "metadata": {
        "id": "xan5XSkPt6Em"
      },
      "execution_count": null,
      "outputs": []
    },
    {
      "cell_type": "markdown",
      "source": [
        "**TAREA(4%): Claramente Fandango está calificando las películas mucho más alto que otros sitios, especialmente considerando que luego muestra una versión redondeada hacia arriba de la calificación. Examinemos las 10 peores películas. Basándonos en las Calificaciones de los Críticos de Rotten Tomatoes, ¿cuáles son las 10 películas con calificación más baja? ¿Cuáles son las puntuaciones normalizadas en todas las plataformas para estas películas? Es posible que necesites volver a agregar la columna FILM a tu DataFrame de puntuaciones normalizadas para ver los resultados.**\n",
        "\n"
      ],
      "metadata": {
        "id": "abY7qk3fuSj6"
      }
    },
    {
      "cell_type": "code",
      "source": [],
      "metadata": {
        "id": "UYojb-OiuXSK"
      },
      "execution_count": null,
      "outputs": []
    },
    {
      "cell_type": "markdown",
      "source": [
        "**TAREA FINAL(4%): Visualiza la distribución de calificaciones en todos los sitios para las 10 peores películas.**"
      ],
      "metadata": {
        "id": "qDVWcjpEudNa"
      }
    },
    {
      "cell_type": "code",
      "source": [],
      "metadata": {
        "id": "clitDpsNufkR"
      },
      "execution_count": null,
      "outputs": []
    },
    {
      "cell_type": "markdown",
      "source": [
        "**Reflexiones finales: ¡Wow! ¡Fandango está mostrando calificaciones de 3-4 estrellas para películas que son claramente malas! Observa el caso más flagrante, Taken 3!. ¡Fandango está mostrando 4.5 estrellas en su sitio para una película con un promedio de calificación de 1.86 en las otras plataformas!**\n",
        "\n",
        "---\n",
        "----\n",
        "\n",
        "<img src=\"https://upload.wikimedia.org/wikipedia/en/6/6f/Taken_3_poster.jpg\">"
      ],
      "metadata": {
        "id": "jNtRTO81ugPr"
      }
    },
    {
      "cell_type": "code",
      "source": [],
      "metadata": {
        "id": "ONW6gyRXusKM"
      },
      "execution_count": null,
      "outputs": []
    }
  ]
}